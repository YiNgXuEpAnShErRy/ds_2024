{
 "cells": [
  {
   "cell_type": "markdown",
   "source": [
    "## Homework 1 Yingxue Pan"
   ],
   "metadata": {
    "collapsed": false
   },
   "id": "5a48fd116e6b9b6d"
  },
  {
   "cell_type": "markdown",
   "source": [
    "#### Exercise 3."
   ],
   "metadata": {
    "collapsed": false
   },
   "id": "88c6dd3546bd76e4"
  },
  {
   "cell_type": "markdown",
   "source": [
    "1. Write a program flow which will assign `grade` by the test scores using the following conditions:\n",
    "\n",
    "    1. If score >= 90, grade=\"A\"\n",
    "    2. If 80 >= score >90, grade=\"B\"\n",
    "    3. If 70 >= score >80, grade=\"C\"\n",
    "    4. If 60 >= score >70, grade=\"D\"\n",
    "    5. IF score < 60, grade=\"F\""
   ],
   "metadata": {
    "collapsed": false
   },
   "id": "f342450245f4171d"
  },
  {
   "cell_type": "code",
   "outputs": [],
   "source": [
    "score = 98"
   ],
   "metadata": {
    "collapsed": false,
    "ExecuteTime": {
     "end_time": "2024-09-26T16:13:47.931699Z",
     "start_time": "2024-09-26T16:13:47.912538Z"
    }
   },
   "id": "f918e7c23c15385d",
   "execution_count": 1
  },
  {
   "cell_type": "code",
   "outputs": [],
   "source": [
    "# code up your solution here\n",
    "if score >= 90:\n",
    "    grade = \"A\"\n",
    "elif score >= 80:\n",
    "    grade = \"B\"\n",
    "elif score >= 70:\n",
    "    grade = \"C\"\n",
    "elif score >= 60:\n",
    "    grade = \"D\"\n",
    "else:\n",
    "    grade = \"F\""
   ],
   "metadata": {
    "collapsed": false,
    "ExecuteTime": {
     "end_time": "2024-09-26T16:13:47.957951Z",
     "start_time": "2024-09-26T16:13:47.938574Z"
    }
   },
   "id": "587fadac6a6f42c5",
   "execution_count": 2
  },
  {
   "cell_type": "code",
   "outputs": [
    {
     "data": {
      "text/plain": "'A'"
     },
     "execution_count": 3,
     "metadata": {},
     "output_type": "execute_result"
    }
   ],
   "source": [
    "grade"
   ],
   "metadata": {
    "collapsed": false,
    "ExecuteTime": {
     "end_time": "2024-09-26T16:13:47.980839Z",
     "start_time": "2024-09-26T16:13:47.960963Z"
    }
   },
   "id": "d2662700f427c721",
   "execution_count": 3
  },
  {
   "cell_type": "markdown",
   "source": [
    "2. x=1, y=1, write a flow to assign messge to different value base on different criteria as below, and in the end print out the message:\n",
    "\n",
    "    a. If x less than y, messge=\"x is less than y\"\n",
    "    \n",
    "    b. If x larger than y, messge=\"x is greater than y\"\n",
    "    \n",
    "    c. If x equal to y, messge=\"x is the same as y\"\n"
   ],
   "metadata": {
    "collapsed": false
   },
   "id": "d341507c9af5bfb5"
  },
  {
   "cell_type": "code",
   "outputs": [],
   "source": [
    "x = 1\n",
    "y = 1"
   ],
   "metadata": {
    "collapsed": false,
    "ExecuteTime": {
     "end_time": "2024-09-26T16:14:09.330362Z",
     "start_time": "2024-09-26T16:14:09.325245Z"
    }
   },
   "id": "82e5a1bf0ca14565",
   "execution_count": 4
  },
  {
   "cell_type": "code",
   "outputs": [
    {
     "name": "stdout",
     "output_type": "stream",
     "text": [
      "x is the same as y\n"
     ]
    }
   ],
   "source": [
    "# code up your solution here\n",
    "if x < y: print('x is less than y')\n",
    "elif x > y: print('x is greater than y')\n",
    "else: print('x is the same as y')"
   ],
   "metadata": {
    "collapsed": false,
    "ExecuteTime": {
     "end_time": "2024-09-26T16:14:09.683504Z",
     "start_time": "2024-09-26T16:14:09.678866Z"
    }
   },
   "id": "7d9720fb242dcad",
   "execution_count": 5
  },
  {
   "cell_type": "code",
   "outputs": [],
   "source": [],
   "metadata": {
    "collapsed": false
   },
   "id": "ea9f4418f5de0f1e",
   "execution_count": 0
  }
 ],
 "metadata": {
  "kernelspec": {
   "display_name": "Python 3",
   "language": "python",
   "name": "python3"
  },
  "language_info": {
   "codemirror_mode": {
    "name": "ipython",
    "version": 2
   },
   "file_extension": ".py",
   "mimetype": "text/x-python",
   "name": "python",
   "nbconvert_exporter": "python",
   "pygments_lexer": "ipython2",
   "version": "2.7.6"
  }
 },
 "nbformat": 4,
 "nbformat_minor": 5
}
