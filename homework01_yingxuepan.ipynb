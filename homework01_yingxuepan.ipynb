{
 "cells": [
  {
   "cell_type": "markdown",
   "source": [
    "## Homework 1 Yingxue Pan"
   ],
   "metadata": {
    "collapsed": false
   },
   "id": "5a48fd116e6b9b6d"
  },
  {
   "cell_type": "markdown",
   "source": [
    "#### Exercise 3."
   ],
   "metadata": {
    "collapsed": false
   },
   "id": "88c6dd3546bd76e4"
  },
  {
   "cell_type": "markdown",
   "source": [
    "1. Write a program flow which will assign `grade` by the test scores using the following conditions:\n",
    "\n",
    "    1. If score >= 90, grade=\"A\"\n",
    "    2. If 80 >= score >90, grade=\"B\"\n",
    "    3. If 70 >= score >80, grade=\"C\"\n",
    "    4. If 60 >= score >70, grade=\"D\"\n",
    "    5. IF score < 60, grade=\"F\""
   ],
   "metadata": {
    "collapsed": false
   },
   "id": "f342450245f4171d"
  },
  {
   "cell_type": "code",
   "outputs": [],
   "source": [
    "score = 98"
   ],
   "metadata": {
    "collapsed": false,
    "ExecuteTime": {
     "end_time": "2024-09-26T17:44:33.099545Z",
     "start_time": "2024-09-26T17:44:33.095883Z"
    }
   },
   "id": "f918e7c23c15385d",
   "execution_count": 19
  },
  {
   "cell_type": "code",
   "outputs": [],
   "source": [
    "# code up your solution here\n",
    "if score >= 90:\n",
    "    grade = \"A\"\n",
    "elif score >= 80:\n",
    "    grade = \"B\"\n",
    "elif score >= 70:\n",
    "    grade = \"C\"\n",
    "elif score >= 60:\n",
    "    grade = \"D\"\n",
    "else:\n",
    "    grade = \"F\""
   ],
   "metadata": {
    "collapsed": false,
    "ExecuteTime": {
     "end_time": "2024-09-26T17:44:33.137863Z",
     "start_time": "2024-09-26T17:44:33.133208Z"
    }
   },
   "id": "587fadac6a6f42c5",
   "execution_count": 20
  },
  {
   "cell_type": "code",
   "outputs": [
    {
     "data": {
      "text/plain": "'A'"
     },
     "execution_count": 21,
     "metadata": {},
     "output_type": "execute_result"
    }
   ],
   "source": [
    "grade"
   ],
   "metadata": {
    "collapsed": false,
    "ExecuteTime": {
     "end_time": "2024-09-26T17:44:33.148295Z",
     "start_time": "2024-09-26T17:44:33.141870Z"
    }
   },
   "id": "d2662700f427c721",
   "execution_count": 21
  },
  {
   "cell_type": "markdown",
   "source": [
    "2. x=1, y=1, write a flow to assign messge to different value base on different criteria as below, and in the end print out the message:\n",
    "\n",
    "    a. If x less than y, messge=\"x is less than y\"\n",
    "    \n",
    "    b. If x larger than y, messge=\"x is greater than y\"\n",
    "    \n",
    "    c. If x equal to y, messge=\"x is the same as y\"\n"
   ],
   "metadata": {
    "collapsed": false
   },
   "id": "d341507c9af5bfb5"
  },
  {
   "cell_type": "code",
   "outputs": [],
   "source": [
    "x = 1\n",
    "y = 1"
   ],
   "metadata": {
    "collapsed": false,
    "ExecuteTime": {
     "end_time": "2024-09-26T17:44:33.153338Z",
     "start_time": "2024-09-26T17:44:33.150302Z"
    }
   },
   "id": "82e5a1bf0ca14565",
   "execution_count": 22
  },
  {
   "cell_type": "code",
   "outputs": [
    {
     "name": "stdout",
     "output_type": "stream",
     "text": [
      "x is the same as y\n"
     ]
    }
   ],
   "source": [
    "# code up your solution here\n",
    "if x < y: print('x is less than y')\n",
    "elif x > y: print('x is greater than y')\n",
    "else: print('x is the same as y')"
   ],
   "metadata": {
    "collapsed": false,
    "ExecuteTime": {
     "end_time": "2024-09-26T17:44:33.162318Z",
     "start_time": "2024-09-26T17:44:33.156423Z"
    }
   },
   "id": "7d9720fb242dcad",
   "execution_count": 23
  },
  {
   "cell_type": "markdown",
   "source": [
    "#### Exercise 4. "
   ],
   "metadata": {
    "collapsed": false
   },
   "id": "d8a8c56b23aca8a9"
  },
  {
   "cell_type": "markdown",
   "source": [
    "1. [Read more on `list`](https://docs.python.org/3/tutorial/datastructures.html#more-on-lists) and select 2 list methods not mentioned in class to give examples of using them."
   ],
   "metadata": {
    "collapsed": false
   },
   "id": "85cee23fe7c6ae29"
  },
  {
   "cell_type": "code",
   "outputs": [
    {
     "data": {
      "text/plain": "2"
     },
     "execution_count": 64,
     "metadata": {},
     "output_type": "execute_result"
    }
   ],
   "source": [
    "# The count(x) function returns the number of times x appears in the list.\n",
    "list1 = [1,2,3,4,5,4,3,2,1]\n",
    "list1.count(3)"
   ],
   "metadata": {
    "collapsed": false,
    "ExecuteTime": {
     "end_time": "2024-09-26T20:58:34.318496Z",
     "start_time": "2024-09-26T20:58:34.281549Z"
    }
   },
   "id": "4eac8483e0e61b0b",
   "execution_count": 64
  },
  {
   "cell_type": "code",
   "outputs": [
    {
     "name": "stdout",
     "output_type": "stream",
     "text": [
      "[1, 2, 3, 4, 5, 4, 3, 2, 1] [4, 2, 3, 4, 5, 4, 3, 2, 1]\n"
     ]
    }
   ],
   "source": [
    "# The copy() function returns a shallow copy of the list.\n",
    "list2 = list1.copy()\n",
    "list2[0] = 4\n",
    "print(list1, list2)"
   ],
   "metadata": {
    "collapsed": false,
    "ExecuteTime": {
     "end_time": "2024-09-26T21:01:43.360400Z",
     "start_time": "2024-09-26T21:01:43.357007Z"
    }
   },
   "id": "d5afa52df5819386",
   "execution_count": 66
  },
  {
   "cell_type": "markdown",
   "source": [
    "2. How can you check if a `key` is already in a dictionary? Give an example."
   ],
   "metadata": {
    "collapsed": false
   },
   "id": "33be2ddeccf62909"
  },
  {
   "cell_type": "code",
   "outputs": [
    {
     "data": {
      "text/plain": "True"
     },
     "execution_count": 67,
     "metadata": {},
     "output_type": "execute_result"
    }
   ],
   "source": [
    "dic = {'a': 100, 'b':200, 'c':300}\n",
    "key = 'b'\n",
    "key in dic"
   ],
   "metadata": {
    "collapsed": false,
    "ExecuteTime": {
     "end_time": "2024-09-26T21:08:40.798672Z",
     "start_time": "2024-09-26T21:08:40.788197Z"
    }
   },
   "id": "2473a7391f5a9509",
   "execution_count": 67
  },
  {
   "cell_type": "markdown",
   "source": [
    "3. [Explore how `Counter`](https://docs.python.org/3/library/collections.html#collections.Counter) works as another type of collection. Give 2 examples to use `Counter`."
   ],
   "metadata": {
    "collapsed": false
   },
   "id": "d169f28bd985ed08"
  },
  {
   "cell_type": "code",
   "outputs": [],
   "source": [
    "from collections import Counter"
   ],
   "metadata": {
    "collapsed": false,
    "ExecuteTime": {
     "end_time": "2024-09-26T21:26:56.406777Z",
     "start_time": "2024-09-26T21:26:56.400188Z"
    }
   },
   "id": "4a2bfccc0d266cb6",
   "execution_count": 69
  },
  {
   "cell_type": "code",
   "outputs": [
    {
     "data": {
      "text/plain": "2"
     },
     "execution_count": 71,
     "metadata": {},
     "output_type": "execute_result"
    }
   ],
   "source": [
    "c1 = Counter({'red': 4, 'blue': 2}) \n",
    "c1['red']"
   ],
   "metadata": {
    "collapsed": false,
    "ExecuteTime": {
     "end_time": "2024-09-26T21:28:07.807097Z",
     "start_time": "2024-09-26T21:28:07.799071Z"
    }
   },
   "id": "7539ff6981cfec57",
   "execution_count": 71
  },
  {
   "cell_type": "code",
   "outputs": [
    {
     "data": {
      "text/plain": "4"
     },
     "execution_count": 74,
     "metadata": {},
     "output_type": "execute_result"
    }
   ],
   "source": [
    "c2 = Counter([1,1,1,2,3,5,8,1])\n",
    "c2[1]"
   ],
   "metadata": {
    "collapsed": false,
    "ExecuteTime": {
     "end_time": "2024-09-26T21:29:56.081706Z",
     "start_time": "2024-09-26T21:29:56.074679Z"
    }
   },
   "id": "e8de5e24fd6c84ca",
   "execution_count": 74
  },
  {
   "cell_type": "markdown",
   "source": [
    "4. The Fibonacci Sequence is the series of numbers:\n",
    "0, 1, 1, 2, 3, 5, 8, 13, 21, 34, ...\n",
    "\n",
    "The next number is found by adding up the two numbers before it.\n",
    "Find the last element of the `fibolist`"
   ],
   "metadata": {
    "collapsed": false
   },
   "id": "deb320cad678bcb7"
  },
  {
   "cell_type": "code",
   "outputs": [
    {
     "data": {
      "text/plain": "317811"
     },
     "execution_count": 36,
     "metadata": {},
     "output_type": "execute_result"
    }
   ],
   "source": [
    "fibolist=[0, 1, 1, 2, 3, 5, 8, 13, 21, 34, 55, 89, 144, 233, 377, 610, 987, 1597, 2584, 4181, 6765, 10946, 17711, 28657, 46368, 75025, 121393, 196418, 317811]\n",
    "\n",
    "# code your solution here\n",
    "fibolist[-1]"
   ],
   "metadata": {
    "collapsed": false,
    "ExecuteTime": {
     "end_time": "2024-09-26T17:46:26.862677Z",
     "start_time": "2024-09-26T17:46:26.849582Z"
    }
   },
   "id": "e81edcb8a658c800",
   "execution_count": 36
  },
  {
   "cell_type": "markdown",
   "source": [
    "5. Calculate the sum of `fibolist`"
   ],
   "metadata": {
    "collapsed": false
   },
   "id": "39c049eaa897da91"
  },
  {
   "cell_type": "code",
   "outputs": [
    {
     "data": {
      "text/plain": "832039"
     },
     "execution_count": 37,
     "metadata": {},
     "output_type": "execute_result"
    }
   ],
   "source": [
    "# code your solution here\n",
    "sum(fibolist)"
   ],
   "metadata": {
    "collapsed": false,
    "ExecuteTime": {
     "end_time": "2024-09-26T17:46:28.051698Z",
     "start_time": "2024-09-26T17:46:28.040980Z"
    }
   },
   "id": "7f731a51d97222b",
   "execution_count": 37
  },
  {
   "cell_type": "markdown",
   "source": [
    "6. Calculate and append the next fibonacci number to `fibolist`."
   ],
   "metadata": {
    "collapsed": false
   },
   "id": "e6d27b2f2a8ae878"
  },
  {
   "cell_type": "code",
   "outputs": [
    {
     "name": "stdout",
     "output_type": "stream",
     "text": [
      "[0, 1, 1, 2, 3, 5, 8, 13, 21, 34, 55, 89, 144, 233, 377, 610, 987, 1597, 2584, 4181, 6765, 10946, 17711, 28657, 46368, 75025, 121393, 196418, 317811, 514229]\n"
     ]
    }
   ],
   "source": [
    "# code your solution here\n",
    "fibolist.append(fibolist[-1]+fibolist[-2])\n",
    "print(fibolist)"
   ],
   "metadata": {
    "collapsed": false,
    "ExecuteTime": {
     "end_time": "2024-09-26T17:46:30.671875Z",
     "start_time": "2024-09-26T17:46:30.664774Z"
    }
   },
   "id": "138149e67c015dec",
   "execution_count": 38
  },
  {
   "cell_type": "markdown",
   "source": [
    "7. Create a reversed copy of fibolist without permanently reversing fibolist liteslf."
   ],
   "metadata": {
    "collapsed": false
   },
   "id": "44434822269a24fe"
  },
  {
   "cell_type": "code",
   "outputs": [],
   "source": [
    "# code your solution here\n",
    "reversed_fibolist = list(reversed(fibolist))"
   ],
   "metadata": {
    "collapsed": false,
    "ExecuteTime": {
     "end_time": "2024-09-26T18:01:23.346336Z",
     "start_time": "2024-09-26T18:01:23.341317Z"
    }
   },
   "id": "ac44a82e9a70cddb",
   "execution_count": 43
  },
  {
   "cell_type": "code",
   "outputs": [
    {
     "name": "stdout",
     "output_type": "stream",
     "text": [
      "[514229, 317811, 196418, 121393, 75025, 46368, 28657, 17711, 10946, 6765, 4181, 2584, 1597, 987, 610, 377, 233, 144, 89, 55, 34, 21, 13, 8, 5, 3, 2, 1, 1, 0]\n"
     ]
    }
   ],
   "source": [
    "print(reversed_fibolist)"
   ],
   "metadata": {
    "collapsed": false,
    "ExecuteTime": {
     "end_time": "2024-09-26T18:01:24.166362Z",
     "start_time": "2024-09-26T18:01:24.162359Z"
    }
   },
   "id": "5d3accae875572d3",
   "execution_count": 45
  },
  {
   "cell_type": "markdown",
   "source": [
    "8. Check if `29473` is a fibonacci number, and assign the anser to variable `fibo_29473`"
   ],
   "metadata": {
    "collapsed": false
   },
   "id": "b6f25848ec452216"
  },
  {
   "cell_type": "code",
   "outputs": [],
   "source": [
    "# code your solution here\n",
    "fibo_29473 = 29473 in fibolist"
   ],
   "metadata": {
    "collapsed": false,
    "ExecuteTime": {
     "end_time": "2024-09-26T18:05:44.180664Z",
     "start_time": "2024-09-26T18:05:44.174451Z"
    }
   },
   "id": "a5a063b0a2381690",
   "execution_count": 48
  },
  {
   "cell_type": "code",
   "outputs": [
    {
     "data": {
      "text/plain": "False"
     },
     "execution_count": 49,
     "metadata": {},
     "output_type": "execute_result"
    }
   ],
   "source": [
    "fibo_29473"
   ],
   "metadata": {
    "collapsed": false,
    "ExecuteTime": {
     "end_time": "2024-09-26T18:05:44.688116Z",
     "start_time": "2024-09-26T18:05:44.681325Z"
    }
   },
   "id": "e0c5c9bfad452923",
   "execution_count": 49
  },
  {
   "cell_type": "markdown",
   "source": [
    "9. Create two sets. Calculate the union, intersection, difference and symmetric difference for the two sets."
   ],
   "metadata": {
    "collapsed": false
   },
   "id": "338f58ceb8a1032b"
  },
  {
   "cell_type": "code",
   "outputs": [],
   "source": [
    "# code your solution here\n",
    "set_1 = set(range(1,11))\n",
    "set_2 = set([1, 6, 7, 8, 9, 11])"
   ],
   "metadata": {
    "collapsed": false,
    "ExecuteTime": {
     "end_time": "2024-09-26T18:14:39.070617Z",
     "start_time": "2024-09-26T18:14:39.065348Z"
    }
   },
   "id": "f5d0bdc50b1fa9e4",
   "execution_count": 59
  },
  {
   "cell_type": "code",
   "outputs": [
    {
     "data": {
      "text/plain": "{1, 2, 3, 4, 5, 6, 7, 8, 9, 10, 11}"
     },
     "execution_count": 60,
     "metadata": {},
     "output_type": "execute_result"
    }
   ],
   "source": [
    "set_1.union(set_2)"
   ],
   "metadata": {
    "collapsed": false,
    "ExecuteTime": {
     "end_time": "2024-09-26T18:14:39.777771Z",
     "start_time": "2024-09-26T18:14:39.768216Z"
    }
   },
   "id": "fd470ad84f710dc6",
   "execution_count": 60
  },
  {
   "cell_type": "code",
   "outputs": [
    {
     "data": {
      "text/plain": "{1, 6, 7, 8, 9}"
     },
     "execution_count": 61,
     "metadata": {},
     "output_type": "execute_result"
    }
   ],
   "source": [
    "set_1.intersection(set_2)"
   ],
   "metadata": {
    "collapsed": false,
    "ExecuteTime": {
     "end_time": "2024-09-26T18:14:40.875374Z",
     "start_time": "2024-09-26T18:14:40.868435Z"
    }
   },
   "id": "5d0f2dd8ca7164d0",
   "execution_count": 61
  },
  {
   "cell_type": "code",
   "outputs": [
    {
     "data": {
      "text/plain": "{2, 3, 4, 5, 10}"
     },
     "execution_count": 62,
     "metadata": {},
     "output_type": "execute_result"
    }
   ],
   "source": [
    "set_1.difference(set_2)"
   ],
   "metadata": {
    "collapsed": false,
    "ExecuteTime": {
     "end_time": "2024-09-26T18:14:56.320202Z",
     "start_time": "2024-09-26T18:14:56.312234Z"
    }
   },
   "id": "7529c32764fabdf6",
   "execution_count": 62
  },
  {
   "cell_type": "code",
   "outputs": [
    {
     "data": {
      "text/plain": "{2, 3, 4, 5, 10, 11}"
     },
     "execution_count": 63,
     "metadata": {},
     "output_type": "execute_result"
    }
   ],
   "source": [
    "set_1.symmetric_difference(set_2)"
   ],
   "metadata": {
    "collapsed": false,
    "ExecuteTime": {
     "end_time": "2024-09-26T18:15:10.719110Z",
     "start_time": "2024-09-26T18:15:10.710269Z"
    }
   },
   "id": "8093e5eef04c0dd8",
   "execution_count": 63
  },
  {
   "cell_type": "markdown",
   "source": [
    "10. Creat a dictionary using at least two different methods."
   ],
   "metadata": {
    "collapsed": false
   },
   "id": "1116622981046154"
  },
  {
   "cell_type": "code",
   "outputs": [
    {
     "name": "stdout",
     "output_type": "stream",
     "text": [
      "{'a': 3, 'b': 1, 'c': 4} {'a': 3, 'b': 1, 'c': 4} {'a': 3, 'b': 1, 'c': 4}\n"
     ]
    }
   ],
   "source": [
    "# code your solution here\n",
    "# refer to class material above for 3 ways\n",
    "dict_1 = {'a':3, 'b':1, 'c':4}\n",
    "dict_2 = dict(a=3, b=1, c=4)\n",
    "dict_3 = {}\n",
    "dict_3['a']=3\n",
    "dict_3['b']=1\n",
    "dict_3['c']=4\n",
    "print(dict_1, dict_2, dict_3)"
   ],
   "metadata": {
    "collapsed": false,
    "ExecuteTime": {
     "end_time": "2024-09-26T21:36:04.629573Z",
     "start_time": "2024-09-26T21:36:04.618427Z"
    }
   },
   "id": "99fb7a475706465e",
   "execution_count": 75
  },
  {
   "cell_type": "markdown",
   "source": [
    "11. Check if `2` and `9999` are fibonacci numbers. Create a dictionary `fibo_dict` with the numbers as keys, and boolean value=`True` if the number is fibonacci number, and `False` otherwise."
   ],
   "metadata": {
    "collapsed": false
   },
   "id": "1c3e4da2e868a435"
  },
  {
   "cell_type": "code",
   "outputs": [
    {
     "data": {
      "text/plain": "{2: True, 9999: False}"
     },
     "execution_count": 78,
     "metadata": {},
     "output_type": "execute_result"
    }
   ],
   "source": [
    "# code your solution here\n",
    "fibo_dict = {2: 2 in fibolist, 9999: 9999 in fibolist}\n",
    "fibo_dict"
   ],
   "metadata": {
    "collapsed": false,
    "ExecuteTime": {
     "end_time": "2024-09-26T21:37:47.749255Z",
     "start_time": "2024-09-26T21:37:47.740296Z"
    }
   },
   "id": "93bdf215fbcc4b6f",
   "execution_count": 78
  },
  {
   "cell_type": "code",
   "outputs": [],
   "source": [],
   "metadata": {
    "collapsed": false
   },
   "id": "e1174223b5e107c8"
  }
 ],
 "metadata": {
  "kernelspec": {
   "display_name": "Python 3",
   "language": "python",
   "name": "python3"
  },
  "language_info": {
   "codemirror_mode": {
    "name": "ipython",
    "version": 2
   },
   "file_extension": ".py",
   "mimetype": "text/x-python",
   "name": "python",
   "nbconvert_exporter": "python",
   "pygments_lexer": "ipython2",
   "version": "2.7.6"
  }
 },
 "nbformat": 4,
 "nbformat_minor": 5
}
